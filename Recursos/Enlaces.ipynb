{
 "cells": [
  {
   "cell_type": "markdown",
   "metadata": {},
   "source": [
    "# **Enlaces**"
   ]
  },
  {
   "cell_type": "markdown",
   "metadata": {},
   "source": [
    "1. **w3schools:** https://www.w3schools.com/html/\n",
    "\n",
    "2. **Mozilla:** https://developer.mozilla.org/es/docs/Web/HTML\n",
    "\n",
    "3. **w3schools:** https://www.w3schools.com/css/\n",
    "\n",
    "4. **Mozilla** https://developer.mozilla.org/es/docs/Web/CSS"
   ]
  }
 ],
 "metadata": {
  "language_info": {
   "name": "python"
  }
 },
 "nbformat": 4,
 "nbformat_minor": 2
}
