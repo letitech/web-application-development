# Diseño Responsivo y CSS Avanzado
## Curso de 8 horas para principiantes

---

## **INFORMACIÓN GENERAL**

**Duración:** 8 horas académicas  
**Modalidad:** Presencial (teoría + práctica)  
**Nivel:** Principiante (con conocimientos básicos de HTML y CSS)  
**Herramientas:** Jupyter Notebook, navegador web, editor de código  

### **Objetivos de Aprendizaje**
Al finalizar este curso, los estudiantes serán capaces de:
- Crear diseños web completamente responsivos usando CSS puro
- Implementar técnicas modernas de layout (Flexbox y Grid)
- Optimizar sitios web para diferentes dispositivos y tamaños de pantalla
- Aplicar principios de diseño UX/UI en proyectos web
- Desarrollar un proyecto web funcional y adaptativo

---

## **ESTRUCTURA DEL CURSO**

### **Hora 1-2: Fundamentos del Diseño Responsivo**

#### **1.1 Introducción al Diseño Responsivo (30 min)**

**¿Qué es el diseño responsivo?**
- Definición y importancia
- Estadísticas de uso de dispositivos móviles
- Diferencia entre responsive, adaptive y mobile-first

**Conceptos clave:**
- Viewport
- Breakpoints
- Fluid layouts
- Flexible media

#### **1.2 Meta Viewport (15 min)**

```html
<meta name="viewport" content="width=device-width, initial-scale=1.0">
```

**Ejemplo práctico:**
```html
<!DOCTYPE html>
<html lang="es">
<head>
    <meta charset="UTF-8">
    <meta name="viewport" content="width=device-width, initial-scale=1.0">
    <title>Mi primera página responsiva</title>
</head>
<body>
    <h1>¡Hola mundo responsivo!</h1>
</body>
</html>
```

#### **1.3 Media Queries Básicas (45 min)**

**Sintaxis básica:**
```css
/* Móviles pequeños */
@media screen and (max-width: 480px) {
    body {
        font-size: 14px;
    }
}

/* Tablets */
@media screen and (min-width: 481px) and (max-width: 768px) {
    body {
        font-size: 16px;
    }
}

/* Desktop */
@media screen and (min-width: 769px) {
    body {
        font-size: 18px;
    }
}
```

**Breakpoints estándar:**
- Móvil: 320px - 480px
- Tablet: 481px - 768px
- Desktop: 769px+

#### **EJERCICIO 1 (30 min):** 
Crear una página con diferentes colores de fondo según el dispositivo:
- Rojo para móviles
- Verde para tablets  
- Azul para desktop

---

### **Hora 3-4: Unidades Flexibles y Layouts Fluidos**

#### **2.1 Unidades Relativas (30 min)**

**Unidades absolutas vs relativas:**
```css
/* Unidades absolutas (NO responsivas) */
.contenedor-fijo {
    width: 300px;
    font-size: 16px;
}

/* Unidades relativas (SÍ responsivas) */
.contenedor-flexible {
    width: 80%;
    font-size: 1.2em;
}
```

**Tipos de unidades relativas:**
- `%` - Porcentaje del elemento padre
- `em` - Relativo al font-size del elemento
- `rem` - Relativo al font-size del elemento raíz
- `vw/vh` - Porcentaje del viewport
- `vmin/vmax` - Menor/mayor dimensión del viewport

#### **2.2 Imágenes Responsivas (30 min)**

```css
/* Imagen que se adapta al contenedor */
.imagen-responsiva {
    max-width: 100%;
    height: auto;
}

/* Imagen que mantiene proporción */
.contenedor-imagen {
    position: relative;
    width: 100%;
    padding-bottom: 56.25%; /* Ratio 16:9 */
}

.contenedor-imagen img {
    position: absolute;
    top: 0;
    left: 0;
    width: 100%;
    height: 100%;
    object-fit: cover;
}
```

#### **2.3 Tipografía Responsiva (30 min)**

```css
/* Usando clamp() para tipografía fluida */
h1 {
    font-size: clamp(1.5rem, 4vw, 3rem);
}

/* Sistema de tipografía escalable */
html {
    font-size: 16px;
}

@media (max-width: 768px) {
    html {
        font-size: 14px;
    }
}

h1 { font-size: 2.5rem; }
h2 { font-size: 2rem; }
p { font-size: 1rem; }
```

#### **EJERCICIO 2 (30 min):**
Crear una galería de imágenes responsiva con textos que se adapten al tamaño de pantalla.

---

### **Hora 5-6: Flexbox para Layouts Responsivos**

#### **3.1 Introducción a Flexbox (30 min)**

**Conceptos básicos:**
- Flex container vs flex items
- Main axis vs cross axis
- Propiedades del contenedor vs items

```css
.contenedor-flex {
    display: flex;
    flex-direction: row; /* row, column, row-reverse, column-reverse */
    justify-content: center; /* flex-start, center, flex-end, space-between, space-around */
    align-items: center; /* flex-start, center, flex-end, stretch, baseline */
    flex-wrap: wrap; /* nowrap, wrap, wrap-reverse */
}

.item-flex {
    flex: 1; /* flex-grow, flex-shrink, flex-basis */
}
```

#### **3.2 Layouts Comunes con Flexbox (45 min)**

**Header responsivo:**
```css
.header {
    display: flex;
    justify-content: space-between;
    align-items: center;
    padding: 1rem;
}

.logo {
    flex: 0 0 auto;
}

.nav {
    display: flex;
    gap: 1rem;
}

@media (max-width: 768px) {
    .header {
        flex-direction: column;
    }
    
    .nav {
        margin-top: 1rem;
    }
}
```

**Cards responsivas:**
```css
.contenedor-cards {
    display: flex;
    flex-wrap: wrap;
    gap: 1rem;
    padding: 1rem;
}

.card {
    flex: 1 1 300px; /* Mínimo 300px, crecen igual */
    background: white;
    border-radius: 8px;
    padding: 1rem;
    box-shadow: 0 2px 10px rgba(0,0,0,0.1);
}
```

#### **3.3 Navegación Responsiva (15 min)**

```css
.navegacion {
    display: flex;
    justify-content: space-between;
    align-items: center;
}

.menu {
    display: flex;
    list-style: none;
    gap: 1rem;
}

.hamburger {
    display: none;
    flex-direction: column;
    cursor: pointer;
}

@media (max-width: 768px) {
    .menu {
        display: none;
        flex-direction: column;
        position: absolute;
        top: 100%;
        left: 0;
        width: 100%;
        background: white;
    }
    
    .hamburger {
        display: flex;
    }
    
    .menu.activo {
        display: flex;
    }
}
```

#### **EJERCICIO 3 (30 min):**
Crear un layout de blog con header, sidebar y contenido principal que se adapte a diferentes pantallas.

---

### **Hora 7: CSS Grid para Layouts Avanzados**

#### **4.1 Introducción a CSS Grid (30 min)**

**Conceptos básicos:**
```css
.contenedor-grid {
    display: grid;
    grid-template-columns: repeat(3, 1fr); /* 3 columnas iguales */
    grid-template-rows: auto;
    gap: 1rem;
}

/* Grid con nombres de líneas */
.layout-grid {
    display: grid;
    grid-template-columns: [sidebar-start] 250px [sidebar-end main-start] 1fr [main-end];
    grid-template-rows: [header-start] 80px [header-end content-start] 1fr [content-end];
}
```

#### **4.2 Grid Areas y Templates (30 min)**

```css
.layout-completo {
    display: grid;
    grid-template-areas: 
        "header header header"
        "sidebar main aside"
        "footer footer footer";
    grid-template-columns: 200px 1fr 200px;
    grid-template-rows: 80px 1fr 60px;
    min-height: 100vh;
}

.header { grid-area: header; }
.sidebar { grid-area: sidebar; }
.main { grid-area: main; }
.aside { grid-area: aside; }
.footer { grid-area: footer; }

@media (max-width: 768px) {
    .layout-completo {
        grid-template-areas: 
            "header"
            "main"
            "sidebar"
            "aside"
            "footer";
        grid-template-columns: 1fr;
    }
}
```

---

### **Hora 8: Proyecto Final y Técnicas Avanzadas**

#### **5.1 Mobile-First Approach (15 min)**

```css
/* Estilos base para móvil */
.contenedor {
    padding: 1rem;
    font-size: 16px;
}

/* Tablet y superior */
@media (min-width: 768px) {
    .contenedor {
        padding: 2rem;
        font-size: 18px;
    }
}

/* Desktop */
@media (min-width: 1024px) {
    .contenedor {
        max-width: 1200px;
        margin: 0 auto;
        padding: 3rem;
    }
}
```

#### **5.2 Optimización y Performance (15 min)**

**Mejores prácticas:**
- Usar `transform` y `opacity` para animaciones
- Minimizar repaints y reflows
- Usar `will-change` con cuidado
- Optimizar imágenes con `srcset`

```css
/* Animaciones eficientes */
.elemento {
    transition: transform 0.3s ease;
}

.elemento:hover {
    transform: translateY(-5px);
}

/* Imágenes responsivas avanzadas */
```

```html
<img src="imagen-small.jpg" 
     srcset="imagen-small.jpg 480w, 
             imagen-medium.jpg 768w, 
             imagen-large.jpg 1200w"
     sizes="(max-width: 480px) 100vw, 
            (max-width: 768px) 50vw, 
            33vw"
     alt="Descripción">
```

#### **PROYECTO FINAL (30 min):**
Crear una página web completa (landing page de portfolio personal) que incluya:
- Header con navegación responsiva
- Sección hero con imagen de fondo
- Grid de proyectos/habilidades
- Formulario de contacto
- Footer
- Completamente responsiva (móvil, tablet, desktop)

---

## **EJERCICIOS PRÁCTICOS**

### **Ejercicio 1: Básico - Media Queries**
Crear una página con diferentes estilos según el dispositivo.

### **Ejercicio 2: Intermedio - Imágenes y Tipografía Responsiva**
Galería de imágenes con textos adaptativos.

### **Ejercicio 3: Avanzado - Layout con Flexbox**
Blog layout completo responsivo.

### **Ejercicio 4: Proyecto Final - Portfolio Responsivo**
Página completa usando todas las técnicas aprendidas.

---

## **RECURSOS ADICIONALES**

### **Herramientas de Desarrollo**
- DevTools del navegador para testing responsivo
- Online responsive checkers
- Extensiones de navegador para testing

### **Referencias CSS**
- MDN Web Docs
- CSS Tricks
- Can I Use para compatibilidad

### **Inspiración de Diseño**
- Dribbble
- Behance
- Awwwards

---

## **EVALUACIÓN**

### **Criterios de Evaluación**
- **Funcionalidad (40%):** El sitio funciona correctamente en todos los dispositivos
- **Diseño Responsivo (30%):** Uso correcto de media queries, flexbox/grid
- **Código Limpio (20%):** Organización, comentarios, mejores prácticas
- **Creatividad (10%):** Diseño atractivo y original

### **Entregables**
1. Ejercicios prácticos (60% de la nota)
2. Proyecto final (40% de la nota)

---

## **CRONOGRAMA DETALLADO**

| Hora | Contenido | Teoría | Práctica |
|------|-----------|---------|----------|
| 1 | Fundamentos del diseño responsivo | 45 min | 15 min |
| 2 | Media queries y viewport | 30 min | 30 min |
| 3 | Unidades flexibles | 30 min | 30 min |
| 4 | Imágenes y tipografía responsiva | 30 min | 30 min |
| 5 | Flexbox básico | 30 min | 30 min |
| 6 | Layouts con Flexbox | 15 min | 45 min |
| 7 | CSS Grid | 30 min | 30 min |
| 8 | Proyecto final y optimización | 15 min | 45 min |

**Total: 225 min teoría + 255 min práctica = 480 min (8 horas)**
