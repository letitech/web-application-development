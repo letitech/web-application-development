{
 "cells": [
  {
   "cell_type": "markdown",
   "metadata": {},
   "source": [
    "# **Fundamentos de HTML y CSS**"
   ]
  },
  {
   "cell_type": "markdown",
   "metadata": {},
   "source": [
    "## **Objetivo**\n",
    "Al finalizar este módulo, el estudiante será capaz de:\n",
    "\n",
    "* Comprender y aplicar correctamente la estructura básica de un documento HTML5.\n",
    "\n",
    "* Crear formularios estructurados, con campos adecuados y validaciones básicas.\n",
    "\n",
    "* Aplicar estilos a los elementos HTML usando selectores adecuados."
   ]
  },
  {
   "cell_type": "markdown",
   "metadata": {},
   "source": [
    "### **1. HTML5 – Estructura, Etiquetas Semánticas y Formularios**"
   ]
  },
  {
   "cell_type": "markdown",
   "metadata": {},
   "source": [
    "#### **1.1. ¿Qué es HTML?**"
   ]
  },
  {
   "cell_type": "markdown",
   "metadata": {},
   "source": [
    "**HTML (HyperText Markup Language)** es el lenguaje de marcado estándar para la creación de páginas web. No es un lenguaje de programación, sino un lenguaje de estructura y contenido. Permite definir los elementos que el navegador debe mostrar: textos, imágenes, enlaces, formularios, etc.\n",
    "\n",
    "* **\"Hipertexto\":** texto que contiene enlaces a otros documentos o páginas.\n",
    "\n",
    "* **\"Marcado\":** uso de etiquetas para definir partes del contenido.\n",
    "\n",
    "**HTML5** es la última versión oficial del lenguaje. Introduce mejoras en semántica, multimedia, accesibilidad y formularios, adaptándose a las necesidades del desarrollo web moderno."
   ]
  },
  {
   "cell_type": "markdown",
   "metadata": {},
   "source": [
    "#### **1.2. Estructura de un documento HTML5**"
   ]
  },
  {
   "cell_type": "markdown",
   "metadata": {},
   "source": [
    "Todo archivo HTML debe comenzar con la siguiente declaración:"
   ]
  },
  {
   "cell_type": "code",
   "execution_count": null,
   "metadata": {
    "vscode": {
     "languageId": "html"
    }
   },
   "outputs": [],
   "source": [
    "<!DOCTYPE html>"
   ]
  },
  {
   "cell_type": "markdown",
   "metadata": {},
   "source": [
    "Esto indica al navegador que estamos usando HTML5. Luego, una estructura básica mínima se ve así:"
   ]
  },
  {
   "cell_type": "code",
   "execution_count": null,
   "metadata": {
    "vscode": {
     "languageId": "html"
    }
   },
   "outputs": [],
   "source": [
    "<!DOCTYPE html>\n",
    "<html lang=\"es\">\n",
    "  <head>\n",
    "    <meta charset=\"UTF-8\">\n",
    "    <meta name=\"viewport\" content=\"width=device-width, initial-scale=1.0\">\n",
    "    <title>Mi primera página web</title>\n",
    "  </head>\n",
    "  <body>\n",
    "    <h1>Hola mundo</h1>\n",
    "    <p>Bienvenidos al desarrollo web</p>\n",
    "  </body>\n",
    "</html>"
   ]
  },
  {
   "cell_type": "markdown",
   "metadata": {
    "vscode": {
     "languageId": "html"
    }
   },
   "source": [
    "**Explicación:**\n",
    "| Etiqueta    |               |\n",
    "| ----------- | ------------------------ |\n",
    "| `<html>`  | raíz del documento.               |\n",
    "| `<head>`     | información \"invisible\" para el usuario (metadatos, título, enlaces a hojas de estilo, scripts, etc.).               |\n",
    "| `<meta charset=\"UTF-8\">`    | permite usar caracteres como tildes y eñes.      |\n",
    "| `<meta name=\"viewport\">` | hace que la página sea adaptable a móviles.         |\n",
    "| `<title>` | título que aparece en la pestaña del navegador.       |\n",
    "| `<body>`   | contiene todo el contenido visible del sitio web. |"
   ]
  },
  {
   "cell_type": "markdown",
   "metadata": {},
   "source": [
    "#### **1.3. Etiquetas semánticas de HTML5**"
   ]
  },
  {
   "cell_type": "markdown",
   "metadata": {},
   "source": [
    "Las etiquetas semánticas indican el significado del contenido que encierran, mejorando la accesibilidad, el SEO y la mantenibilidad del código.\n",
    "\n",
    "**Principales etiquetas semánticas:**"
   ]
  },
  {
   "cell_type": "markdown",
   "metadata": {},
   "source": [
    "| Etiqueta    | Significado              | Uso común                                        |\n",
    "| ----------- | ------------------------ | ------------------------------------------------ |\n",
    "| `<header>`  | Encabezado               | Logo, navegación principal, título de la sección |\n",
    "| `<nav>`     | Navegación               | Menú de enlaces                                  |\n",
    "| `<main>`    | Contenido principal      | Parte central del sitio                          |\n",
    "| `<section>` | Sección temática         | Agrupa contenido relacionado                     |\n",
    "| `<article>` | Contenido autónomo       | Blog, noticias, comentarios                      |\n",
    "| `<aside>`   | Contenido complementario | Publicidad, enlaces relacionados                 |\n",
    "| `<footer>`  | Pie de página            | Información legal, contactos, redes              |\n"
   ]
  },
  {
   "cell_type": "code",
   "execution_count": null,
   "metadata": {
    "vscode": {
     "languageId": "html"
    }
   },
   "outputs": [
    {
     "ename": "IndentationError",
     "evalue": "unindent does not match any outer indentation level (<tokenize>, line 24)",
     "output_type": "error",
     "traceback": [
      "\u001b[1;36m  File \u001b[1;32m<tokenize>:24\u001b[1;36m\u001b[0m\n\u001b[1;33m    </body>\u001b[0m\n\u001b[1;37m    ^\u001b[0m\n\u001b[1;31mIndentationError\u001b[0m\u001b[1;31m:\u001b[0m unindent does not match any outer indentation level\n"
     ]
    }
   ],
   "source": [
    "<body>\n",
    "    <header>\n",
    "      <h1>Mi Blog</h1>\n",
    "      <nav>\n",
    "        <ul>\n",
    "          <li><a href=\"#\">Inicio</a></li>\n",
    "          <li><a href=\"#\">Sobre mí</a></li>\n",
    "        </ul>\n",
    "      </nav>\n",
    "    </header>\n",
    "  \n",
    "    <main>\n",
    "      <section>\n",
    "        <article>\n",
    "          <h2>Primera Entrada</h2>\n",
    "          <p>Este es el contenido de mi primer post.</p>\n",
    "        </article>\n",
    "      </section>\n",
    "    </main>\n",
    "  \n",
    "    <footer>\n",
    "      <p>&copy; 2025 - Mi Blog Personal</p>\n",
    "    </footer>\n",
    "</body>  "
   ]
  },
  {
   "cell_type": "markdown",
   "metadata": {},
   "source": [
    "#### **1.4. Formularios en HTML5**"
   ]
  },
  {
   "cell_type": "markdown",
   "metadata": {},
   "source": [
    "Un formulario es una sección que permite a los usuarios introducir datos que serán enviados a un servidor.\n",
    "\n",
    "**Estructura básica:**"
   ]
  },
  {
   "cell_type": "code",
   "execution_count": null,
   "metadata": {
    "vscode": {
     "languageId": "html"
    }
   },
   "outputs": [],
   "source": [
    "<form action=\"/procesar\" method=\"post\">\n",
    "    <!-- campos de entrada -->\n",
    "</form>"
   ]
  },
  {
   "cell_type": "markdown",
   "metadata": {},
   "source": [
    "* `action`: URL donde se enviarán los datos.\n",
    "\n",
    "* `method`: GET (visible en la URL) o POST (oculto, más seguro)."
   ]
  },
  {
   "cell_type": "markdown",
   "metadata": {},
   "source": [
    "**Campos de entrada comunes:**\n",
    "| Campo              | Etiqueta HTML             |\n",
    "| ------------------ | ------------------------- |\n",
    "| Texto corto        | `<input type=\"text\">`     |\n",
    "| Correo electrónico | `<input type=\"email\">`    |\n",
    "| Contraseña         | `<input type=\"password\">` |\n",
    "| Área de texto      | `<textarea>`              |\n",
    "| Lista desplegable  | `<select>`                |\n",
    "| Botón enviar       | `<input type=\"submit\">`   |\n"
   ]
  },
  {
   "cell_type": "markdown",
   "metadata": {},
   "source": [
    "**Ejemplo completo:**"
   ]
  },
  {
   "cell_type": "code",
   "execution_count": null,
   "metadata": {
    "vscode": {
     "languageId": "html"
    }
   },
   "outputs": [],
   "source": [
    "<form action=\"/registrar\" method=\"post\">\n",
    "    <label for=\"nombre\">Nombre:</label>\n",
    "    <input type=\"text\" id=\"nombre\" name=\"nombre\" required>\n",
    "  \n",
    "    <label for=\"email\">Correo electrónico:</label>\n",
    "    <input type=\"email\" id=\"email\" name=\"email\" required>\n",
    "  \n",
    "    <label for=\"mensaje\">Mensaje:</label>\n",
    "    <textarea id=\"mensaje\" name=\"mensaje\" placeholder=\"Escribe aquí...\" required></textarea>\n",
    "  \n",
    "    <input type=\"submit\" value=\"Enviar\">\n",
    "</form>  "
   ]
  },
  {
   "cell_type": "markdown",
   "metadata": {},
   "source": [
    "**Atributos importantes:**\n",
    "* `required`: obliga a completar el campo.\n",
    "\n",
    "* `placeholder`: texto de ejemplo dentro del campo.\n",
    "\n",
    "* `name`: nombre del dato enviado (clave).\n",
    "\n",
    "* `id`: identificador del elemento (para vincular con <label>)."
   ]
  },
  {
   "cell_type": "markdown",
   "metadata": {},
   "source": [
    "#### **1.5. Buenas prácticas**"
   ]
  },
  {
   "cell_type": "markdown",
   "metadata": {},
   "source": [
    "* Usar etiquetas semánticas en lugar de `<div>` innecesarios.\n",
    "\n",
    "* Validar formularios en el navegador antes de enviarlos al servidor.\n",
    "\n",
    "* Incluir atributos `alt` en imágenes y `label` en formularios para accesibilidad.\n",
    "\n",
    "* Mantener el código bien indentado y legible."
   ]
  },
  {
   "cell_type": "markdown",
   "metadata": {},
   "source": [
    "#### **1.6. Actividades propuestas**"
   ]
  },
  {
   "cell_type": "markdown",
   "metadata": {},
   "source": [
    "1. Escribir un documento HTML completo que contenga una estructura con etiquetas semánticas.\n",
    "\n",
    "2. Crear un formulario de registro con campos para nombre, correo y mensaje, usando validación HTML5.\n",
    "\n",
    "3. Analizar una página web y señalar qué etiquetas semánticas utiliza correctamente."
   ]
  },
  {
   "cell_type": "markdown",
   "metadata": {},
   "source": [
    "### **2. CSS3 – Selectores, Especificidad y Box Model**"
   ]
  },
  {
   "cell_type": "markdown",
   "metadata": {},
   "source": [
    "Un **widget** es cualquier componente que aparece en una interfaz gráfica de usuario (GUI) y con el que el usuario puede interactuar. En Tkinter, algunos de los widgets más comunes incluyen:\n",
    "\n",
    "* **Etiquetas (Label):** Muestran texto o imágenes en la interfaz.\n",
    "* **Botones (Button):** Permiten al usuario ejecutar acciones cuando son presionados.\n",
    "* **Cuadros de texto (Entry):** Permiten al usuario ingresar texto."
   ]
  },
  {
   "cell_type": "markdown",
   "metadata": {},
   "source": [
    "#### **2.1. ¿Qué es CSS?**"
   ]
  },
  {
   "cell_type": "markdown",
   "metadata": {},
   "source": [
    "**CSS (Cascading Style Sheets – Hojas de Estilo en Cascada)** es el lenguaje utilizado para describir la presentación visual de un documento HTML. Permite definir colores, fuentes, márgenes, espacios, tamaños, posiciones y más.\n",
    "\n",
    "**CSS3** es la última versión estándar. Introduce mejoras como sombras, gradientes, transiciones, animaciones, flexbox, grid, media queries, entre otros."
   ]
  },
  {
   "cell_type": "markdown",
   "metadata": {},
   "source": [
    "#### **2.2. Cómo se aplica CSS**"
   ]
  },
  {
   "cell_type": "markdown",
   "metadata": {},
   "source": [
    "Existen tres formas principales de aplicar CSS a un documento HTML:\n",
    "\n",
    "**a. En línea (inline)**"
   ]
  },
  {
   "cell_type": "code",
   "execution_count": null,
   "metadata": {
    "vscode": {
     "languageId": "html"
    }
   },
   "outputs": [],
   "source": [
    "<p style=\"color: blue;\">Texto azul</p>"
   ]
  },
  {
   "cell_type": "markdown",
   "metadata": {},
   "source": [
    "**b. Interno (en el `<head>`)**"
   ]
  },
  {
   "cell_type": "code",
   "execution_count": null,
   "metadata": {
    "vscode": {
     "languageId": "html"
    }
   },
   "outputs": [],
   "source": [
    "<style>\n",
    "    p {\n",
    "      color: blue;\n",
    "    }\n",
    "</style>  "
   ]
  },
  {
   "cell_type": "markdown",
   "metadata": {},
   "source": [
    "**c. Externo (archivo separado)**"
   ]
  },
  {
   "cell_type": "code",
   "execution_count": null,
   "metadata": {
    "vscode": {
     "languageId": "html"
    }
   },
   "outputs": [],
   "source": [
    "<!-- En el HTML -->\n",
    "<link rel=\"stylesheet\" href=\"estilos.css\">"
   ]
  },
  {
   "cell_type": "raw",
   "metadata": {
    "vscode": {
     "languageId": "raw"
    }
   },
   "source": [
    "/* En estilos.css */\n",
    "p {\n",
    "  color: blue;\n",
    "}"
   ]
  },
  {
   "cell_type": "markdown",
   "metadata": {},
   "source": [
    "**Recomendación:** usar siempre hojas de estilo externas para mantener separación entre contenido y diseño."
   ]
  },
  {
   "cell_type": "markdown",
   "metadata": {},
   "source": [
    "#### **2.3. Selectores en CSS**\n",
    "Los selectores permiten identificar a qué elementos HTML se aplicarán los estilos.\n",
    "\n",
    "**Tipos básicos de selectores:**\n",
    "| Selector  | Ejemplo      | Selecciona...                     |\n",
    "| --------- | ------------ | --------------------------------- |\n",
    "| Universal | `*`          | Todos los elementos               |\n",
    "| Etiqueta  | `p`          | Todos los párrafos `<p>`          |\n",
    "| Clase     | `.destacado` | Elementos con `class=\"destacado\"` |\n",
    "| ID        | `#principal` | Elemento con `id=\"principal\"`     |\n",
    "| Agrupados | `h1, h2, p`  | Todos los `<h1>`, `<h2>`, y `<p>` |"
   ]
  },
  {
   "cell_type": "markdown",
   "metadata": {},
   "source": [
    "**Selectores combinados:**\n",
    "* Descendiente: div p {} → todos los `<p>` dentro de `<div>`\n",
    "\n",
    "* Hijo directo: ul > li {} → solo `<li>` que son hijos directos de `<ul>`\n",
    "\n",
    "* Elemento adyacente: h2 + p {} → el `<p>` justo después de un `<h2>`\n",
    "\n",
    "* Elemento general hermano: h2 ~ p {} → todos los `<p>` después de un `<h2>` en el mismo nivel"
   ]
  },
  {
   "cell_type": "markdown",
   "metadata": {},
   "source": [
    "**Selectores de atributos:**"
   ]
  },
  {
   "cell_type": "raw",
   "metadata": {
    "vscode": {
     "languageId": "raw"
    }
   },
   "source": [
    "input[type=\"text\"] {\n",
    "    background-color: lightyellow;\n",
    "}  "
   ]
  },
  {
   "cell_type": "markdown",
   "metadata": {},
   "source": [
    "#### **2.4. Especificidad en CSS**"
   ]
  },
  {
   "cell_type": "markdown",
   "metadata": {},
   "source": [
    "La **especificidad** determina qué regla CSS se aplica cuando hay conflictos.\n",
    "\n",
    "**Regla general (mayor a menor prioridad):**\n",
    "\n",
    "1. Estilos en línea → `style=\"color:red\"`\n",
    "\n",
    "2. ID → `#cabecera`\n",
    "\n",
    "3. Clases, atributos, pseudo-clases → `.activo, [type=\"text\"], :hover`\n",
    "\n",
    "4. Elementos y pseudo-elementos → `p, ::before`"
   ]
  },
  {
   "cell_type": "raw",
   "metadata": {
    "vscode": {
     "languageId": "raw"
    }
   },
   "source": [
    "p { color: black; }                  /* especificidad: 0-0-0-1 */\n",
    ".destacado { color: blue; }         /* especificidad: 0-0-1-0 */\n",
    "#principal { color: green; }        /* especificidad: 0-1-0-0 */"
   ]
  },
  {
   "cell_type": "markdown",
   "metadata": {},
   "source": [
    "Resultado: Si un `<p>` tiene tanto la clase `destacado` como el ID `principal`, el color será verde."
   ]
  },
  {
   "cell_type": "markdown",
   "metadata": {},
   "source": [
    "#### **2.5. Box Model (Modelo de Caja)**"
   ]
  },
  {
   "cell_type": "markdown",
   "metadata": {},
   "source": [
    "En CSS, todos los elementos se representan como cajas rectangulares. El modelo de caja describe el comportamiento de estas cajas y cómo ocupan espacio en la pantalla.\n",
    "\n",
    "**Partes del box model:**"
   ]
  },
  {
   "cell_type": "raw",
   "metadata": {},
   "source": [
    "+---------------------------+\n",
    "|         margin           |\n",
    "|  +---------------------+ |\n",
    "|  |      border         | |\n",
    "|  |  +---------------+ | |\n",
    "|  |  |   padding      | | |\n",
    "|  |  | +-----------+  | | |\n",
    "|  |  | |  content   |  | | |\n",
    "|  |  | +-----------+  | | |\n",
    "|  |  +---------------+ | |\n",
    "|  +---------------------+ |\n",
    "+---------------------------+"
   ]
  },
  {
   "cell_type": "markdown",
   "metadata": {},
   "source": [
    "**Componentes:**\n",
    "1. **Content:** contenido del elemento (texto, imagen, etc.)\n",
    "\n",
    "2. **Padding:** espacio entre el contenido y el borde.\n",
    "\n",
    "3. **Border:** línea que rodea el padding.\n",
    "\n",
    "4. **Margin:** espacio externo entre el borde del elemento y otros elementos.\n",
    "\n",
    "**Ejemplo:**"
   ]
  },
  {
   "cell_type": "raw",
   "metadata": {
    "vscode": {
     "languageId": "raw"
    }
   },
   "source": [
    ".box {\n",
    "  width: 200px;\n",
    "  padding: 20px;\n",
    "  border: 5px solid black;\n",
    "  margin: 15px;\n",
    "}"
   ]
  },
  {
   "cell_type": "markdown",
   "metadata": {},
   "source": [
    "**Tamaño total (por defecto):**\n",
    "\n",
    "width + padding (izq+der) + border (izq+der) + margin (izq+der)\n",
    "\n",
    "**Solución moderna:**"
   ]
  },
  {
   "cell_type": "raw",
   "metadata": {
    "vscode": {
     "languageId": "raw"
    }
   },
   "source": [
    "* {\n",
    "  box-sizing: border-box;\n",
    "}"
   ]
  },
  {
   "cell_type": "markdown",
   "metadata": {},
   "source": [
    "Esto hace que el `width` incluya padding y border, facilitando el diseño."
   ]
  },
  {
   "cell_type": "markdown",
   "metadata": {},
   "source": [
    "#### **2.6. Actividades prácticas**\n",
    "1. Crear una hoja de estilo externa que modifique:\n",
    "\n",
    "    * Color de fondo del `body`\n",
    "\n",
    "    * Color y fuente de los encabezados\n",
    "\n",
    "    * Tamaño y márgenes de los párrafos\n",
    "\n",
    "2. Definir selectores para estilizar una lista de navegación y una tarjeta de presentación.\n",
    "\n",
    "3. Diseñar varias cajas con distintas combinaciones de padding, border y margin, para observar su efecto en la página."
   ]
  }
 ],
 "metadata": {
  "kernelspec": {
   "display_name": "Python 3",
   "language": "python",
   "name": "python3"
  },
  "language_info": {
   "codemirror_mode": {
    "name": "ipython",
    "version": 3
   },
   "file_extension": ".py",
   "mimetype": "text/x-python",
   "name": "python",
   "nbconvert_exporter": "python",
   "pygments_lexer": "ipython3",
   "version": "3.11.2"
  }
 },
 "nbformat": 4,
 "nbformat_minor": 2
}
